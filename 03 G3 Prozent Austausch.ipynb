{
 "cells": [
  {
   "cell_type": "markdown",
   "metadata": {},
   "source": [
    "# Graph3: Wie viel Auswahl die Kantone erlauben"
   ]
  },
  {
   "cell_type": "markdown",
   "metadata": {},
   "source": [
    "Das Skript schaut welche Leistungen die Kantone Bern, Solothurn und Freiburg nur im Kanton zulassen.\n",
    "Dabei interessiert uns bei welchen Leistungen sie Überschneidungen zulassen - so dass Patientinnen zwischen Spitälern innerhalb- und ausserhalb des Kantons auswählen können - und bei welchen Leistungen Patienten sich nur ausserhalb des jeweiligen Kantons behandeln lassen können.\n",
    "\n",
    "Zwischenschritt: Damit die Zahl der Leistungen pro Kanton, bzw Spital vergleichbar sind habe ich von kanton_0.csv zu kanton_1.csv bei Solothurn und Freiburg manuell die Leistungen harmonisiert. So hat Solothurn zum Beispiel alle Transplantationen zusammengefasst, während sie bei Bern einzeln aufgelistet waren. Als Referenz habe ich Bern verwendet, weil diese Leistungsliste am detailiertesten war.\n",
    "\n",
    "Das Skript öffnet die Kantons-CSVs und \n",
    "- Fügt eine Spalte mit der Kennzeichnung des Spitals aus Sicht des Kantons ein (Wird die Leistung im Kanton, nur ausserhalb oder sowohl innerhalb als ausserhalb des Kantons angeboten?)\n",
    "- Hängt die DFs zusammen\n",
    "- rechnet Prozente aus, wie viele Leistungen pro Kanton innerhalb, ausserhalb oder sowohl als auch zugelassen sind\n",
    "- Macht ein stacked bar graph draus."
   ]
  },
  {
   "cell_type": "code",
   "execution_count": 28,
   "metadata": {},
   "outputs": [],
   "source": [
    "# Import stuff\n",
    "import pandas as pd\n",
    "import numpy as np\n",
    "import matplotlib.pyplot as plt\n",
    "from matplotlib import rc"
   ]
  },
  {
   "cell_type": "markdown",
   "metadata": {},
   "source": [
    "### CSV laden für Freiburg"
   ]
  },
  {
   "cell_type": "code",
   "execution_count": 36,
   "metadata": {},
   "outputs": [],
   "source": [
    "df_fr = pd.read_csv('exports/freiburg_1.csv')\n"
   ]
  },
  {
   "cell_type": "markdown",
   "metadata": {},
   "source": [
    "#### Summe über einzelne Spalten einer Zeile"
   ]
  },
  {
   "cell_type": "markdown",
   "metadata": {},
   "source": [
    "Nun will ich die Summe pro Zeile über bestimmte Spalten ausrechnen. Dafür erstelle ich entsprechende Listen mit den Spaltennamen."
   ]
  },
  {
   "cell_type": "code",
   "execution_count": 4,
   "metadata": {},
   "outputs": [],
   "source": [
    "# Listen mit Spaltennamen\n",
    "fr_headers = df_fr.columns.tolist()\n",
    "fr_innerkantonal = fr_headers[3:8]\n",
    "fr_ausserkantonal = fr_headers[8:13]\n",
    "\n",
    "# Neue Spalten mit Summe aus den Listen erstellen\n",
    "df_fr['Innerkantonal'] = df_fr[fr_innerkantonal].sum(axis=1)\n",
    "df_fr['Ausserkantonal'] = df_fr[fr_ausserkantonal].sum(axis=1)\n",
    "#df_fr.head(2)"
   ]
  },
  {
   "cell_type": "code",
   "execution_count": 5,
   "metadata": {},
   "outputs": [
    {
     "data": {
      "text/html": [
       "<div>\n",
       "<style scoped>\n",
       "    .dataframe tbody tr th:only-of-type {\n",
       "        vertical-align: middle;\n",
       "    }\n",
       "\n",
       "    .dataframe tbody tr th {\n",
       "        vertical-align: top;\n",
       "    }\n",
       "\n",
       "    .dataframe thead th {\n",
       "        text-align: right;\n",
       "    }\n",
       "</style>\n",
       "<table border=\"1\" class=\"dataframe\">\n",
       "  <thead>\n",
       "    <tr style=\"text-align: right;\">\n",
       "      <th></th>\n",
       "      <th>Leistungsbereiche</th>\n",
       "      <th>Kürzel Bern</th>\n",
       "      <th>Leistungsgruppen</th>\n",
       "      <th>HFR</th>\n",
       "      <th>Daler</th>\n",
       "      <th>Clinique Générale</th>\n",
       "      <th>HIB</th>\n",
       "      <th>Petit Prince</th>\n",
       "      <th>HNE</th>\n",
       "      <th>Klinik Bethesda</th>\n",
       "      <th>CHUV</th>\n",
       "      <th>Inselspital</th>\n",
       "      <th>HUG</th>\n",
       "      <th>Innerkantonal</th>\n",
       "      <th>Ausserkantonal</th>\n",
       "      <th>Kennzeichen FR</th>\n",
       "    </tr>\n",
       "  </thead>\n",
       "  <tbody>\n",
       "    <tr>\n",
       "      <th>0</th>\n",
       "      <td>Basispaket</td>\n",
       "      <td>BP</td>\n",
       "      <td>Basispaket Chirurgie und Innere Medizin</td>\n",
       "      <td>1</td>\n",
       "      <td>1</td>\n",
       "      <td>0</td>\n",
       "      <td>1</td>\n",
       "      <td>0</td>\n",
       "      <td>0</td>\n",
       "      <td>0</td>\n",
       "      <td>0</td>\n",
       "      <td>0</td>\n",
       "      <td>0</td>\n",
       "      <td>3</td>\n",
       "      <td>0</td>\n",
       "      <td>IK</td>\n",
       "    </tr>\n",
       "    <tr>\n",
       "      <th>1</th>\n",
       "      <td>Programmiertes \\nBasispaket</td>\n",
       "      <td>BPE</td>\n",
       "      <td>Basispaket für elektive Leistungserbringer</td>\n",
       "      <td>1</td>\n",
       "      <td>1</td>\n",
       "      <td>1</td>\n",
       "      <td>1</td>\n",
       "      <td>0</td>\n",
       "      <td>0</td>\n",
       "      <td>0</td>\n",
       "      <td>0</td>\n",
       "      <td>0</td>\n",
       "      <td>0</td>\n",
       "      <td>4</td>\n",
       "      <td>0</td>\n",
       "      <td>IK</td>\n",
       "    </tr>\n",
       "  </tbody>\n",
       "</table>\n",
       "</div>"
      ],
      "text/plain": [
       "             Leistungsbereiche Kürzel Bern  \\\n",
       "0                   Basispaket          BP   \n",
       "1  Programmiertes \\nBasispaket         BPE   \n",
       "\n",
       "                             Leistungsgruppen  HFR  Daler  Clinique Générale  \\\n",
       "0     Basispaket Chirurgie und Innere Medizin    1      1                  0   \n",
       "1  Basispaket für elektive Leistungserbringer    1      1                  1   \n",
       "\n",
       "   HIB  Petit Prince  HNE  Klinik Bethesda  CHUV  Inselspital  HUG  \\\n",
       "0    1             0    0                0     0            0    0   \n",
       "1    1             0    0                0     0            0    0   \n",
       "\n",
       "   Innerkantonal  Ausserkantonal Kennzeichen FR  \n",
       "0              3               0             IK  \n",
       "1              4               0             IK  "
      ]
     },
     "execution_count": 5,
     "metadata": {},
     "output_type": "execute_result"
    }
   ],
   "source": [
    "#Mit einer Funktion teile ich die Leistungen danach ein ob sie nur im Kanton, \n",
    "#nur ausserhalb oder sowohl als auch angeboten werden. \n",
    "\n",
    "def kennzeichen(innerkantonal, ausserkantonal):\n",
    "    if innerkantonal >0 and ausserkantonal > 0:\n",
    "        return 'beides'\n",
    "    elif innerkantonal == 0 and ausserkantonal > 0:\n",
    "        return 'AK'\n",
    "    elif innerkantonal >0 and ausserkantonal == 0:\n",
    "        return 'IK'\n",
    "    else:\n",
    "        return 'hoppla'\n",
    "    \n",
    "\n",
    "df_fr['Kennzeichen FR'] = df_fr.apply(lambda x: kennzeichen(x['Innerkantonal'], x['Ausserkantonal']), axis=1)\n",
    "df_fr.head(2)"
   ]
  },
  {
   "cell_type": "code",
   "execution_count": null,
   "metadata": {},
   "outputs": [],
   "source": []
  },
  {
   "cell_type": "markdown",
   "metadata": {},
   "source": [
    "### Solothurn"
   ]
  },
  {
   "cell_type": "code",
   "execution_count": 35,
   "metadata": {},
   "outputs": [],
   "source": [
    "# csv laden:\n",
    "df_so = pd.read_csv('exports/solothurn_1.csv')"
   ]
  },
  {
   "cell_type": "code",
   "execution_count": 7,
   "metadata": {},
   "outputs": [],
   "source": [
    "#print(list(df_so.columns))"
   ]
  },
  {
   "cell_type": "code",
   "execution_count": 8,
   "metadata": {},
   "outputs": [],
   "source": [
    "# Listen mit Spaltennamen\n",
    "so_headers =df_so.columns.tolist()"
   ]
  },
  {
   "cell_type": "code",
   "execution_count": 9,
   "metadata": {},
   "outputs": [],
   "source": [
    "#listen definieren\n",
    "so_innerkantonal = so_headers[3:6]\n",
    "so_ausserkantonal = so_headers[6:17]\n",
    "\n",
    "# Neue Spalten mit Summe aus den Listen erstellen\n",
    "df_so['Innerkantonal'] = df_so[so_innerkantonal].sum(axis=1)\n",
    "df_so['Ausserkantonal'] = df_so[so_ausserkantonal].sum(axis=1)\n",
    "#df_so.head(2)"
   ]
  },
  {
   "cell_type": "code",
   "execution_count": 10,
   "metadata": {},
   "outputs": [
    {
     "data": {
      "text/html": [
       "<div>\n",
       "<style scoped>\n",
       "    .dataframe tbody tr th:only-of-type {\n",
       "        vertical-align: middle;\n",
       "    }\n",
       "\n",
       "    .dataframe tbody tr th {\n",
       "        vertical-align: top;\n",
       "    }\n",
       "\n",
       "    .dataframe thead th {\n",
       "        text-align: right;\n",
       "    }\n",
       "</style>\n",
       "<table border=\"1\" class=\"dataframe\">\n",
       "  <thead>\n",
       "    <tr style=\"text-align: right;\">\n",
       "      <th></th>\n",
       "      <th>Leistungsbereiche</th>\n",
       "      <th>Kürzel</th>\n",
       "      <th>Leistungsgruppen</th>\n",
       "      <th>Pallas Kliniken AG</th>\n",
       "      <th>Privatklinik Obach</th>\n",
       "      <th>Solothurner Spitäler AG</th>\n",
       "      <th>Engeriedspital (Lindenhofgruppe)</th>\n",
       "      <th>Hirslanden Klinik Aarau</th>\n",
       "      <th>Inselspital Bern (Insel Gruppe AG)</th>\n",
       "      <th>Kantonsspital Aarau</th>\n",
       "      <th>Kantonsspital Baselland</th>\n",
       "      <th>Klinik Beau-Site (Hirslanden Bern AG)</th>\n",
       "      <th>Lindenhofspital (Lindenhofgruppe)</th>\n",
       "      <th>Salem-Spital (Hirslanden Bern AG)</th>\n",
       "      <th>St. Claraspital AG</th>\n",
       "      <th>Universitäts-Kinderspital beider Basel</th>\n",
       "      <th>Universitätsspital Basel</th>\n",
       "      <th>Innerkantonal</th>\n",
       "      <th>Ausserkantonal</th>\n",
       "      <th>Kennzeichen SO</th>\n",
       "    </tr>\n",
       "  </thead>\n",
       "  <tbody>\n",
       "    <tr>\n",
       "      <th>0</th>\n",
       "      <td>Basispaket</td>\n",
       "      <td>BP</td>\n",
       "      <td>Basispaket Chirurgie und Innere Medizin</td>\n",
       "      <td>0</td>\n",
       "      <td>0</td>\n",
       "      <td>1</td>\n",
       "      <td>0</td>\n",
       "      <td>0</td>\n",
       "      <td>0</td>\n",
       "      <td>0</td>\n",
       "      <td>1</td>\n",
       "      <td>0</td>\n",
       "      <td>0</td>\n",
       "      <td>0</td>\n",
       "      <td>0</td>\n",
       "      <td>1</td>\n",
       "      <td>0</td>\n",
       "      <td>1</td>\n",
       "      <td>2</td>\n",
       "      <td>beides</td>\n",
       "    </tr>\n",
       "    <tr>\n",
       "      <th>1</th>\n",
       "      <td>NaN</td>\n",
       "      <td>BPE</td>\n",
       "      <td>Basispaket für elektive Leistungserbringer</td>\n",
       "      <td>1</td>\n",
       "      <td>1</td>\n",
       "      <td>0</td>\n",
       "      <td>0</td>\n",
       "      <td>0</td>\n",
       "      <td>0</td>\n",
       "      <td>0</td>\n",
       "      <td>0</td>\n",
       "      <td>0</td>\n",
       "      <td>0</td>\n",
       "      <td>0</td>\n",
       "      <td>0</td>\n",
       "      <td>0</td>\n",
       "      <td>0</td>\n",
       "      <td>2</td>\n",
       "      <td>0</td>\n",
       "      <td>IK</td>\n",
       "    </tr>\n",
       "  </tbody>\n",
       "</table>\n",
       "</div>"
      ],
      "text/plain": [
       "  Leistungsbereiche Kürzel                            Leistungsgruppen  \\\n",
       "0        Basispaket     BP     Basispaket Chirurgie und Innere Medizin   \n",
       "1               NaN    BPE  Basispaket für elektive Leistungserbringer   \n",
       "\n",
       "   Pallas Kliniken AG  Privatklinik Obach  Solothurner Spitäler AG  \\\n",
       "0                   0                   0                        1   \n",
       "1                   1                   1                        0   \n",
       "\n",
       "   Engeriedspital (Lindenhofgruppe)  Hirslanden Klinik Aarau  \\\n",
       "0                                 0                        0   \n",
       "1                                 0                        0   \n",
       "\n",
       "   Inselspital Bern (Insel Gruppe AG)  Kantonsspital Aarau  \\\n",
       "0                                   0                    0   \n",
       "1                                   0                    0   \n",
       "\n",
       "   Kantonsspital Baselland  Klinik Beau-Site (Hirslanden Bern AG)  \\\n",
       "0                        1                                      0   \n",
       "1                        0                                      0   \n",
       "\n",
       "   Lindenhofspital (Lindenhofgruppe)  Salem-Spital (Hirslanden Bern AG)  \\\n",
       "0                                  0                                  0   \n",
       "1                                  0                                  0   \n",
       "\n",
       "   St. Claraspital AG  Universitäts-Kinderspital beider Basel  \\\n",
       "0                   0                                       1   \n",
       "1                   0                                       0   \n",
       "\n",
       "   Universitätsspital Basel  Innerkantonal  Ausserkantonal Kennzeichen SO  \n",
       "0                         0              1               2         beides  \n",
       "1                         0              2               0             IK  "
      ]
     },
     "execution_count": 10,
     "metadata": {},
     "output_type": "execute_result"
    }
   ],
   "source": [
    "def kennzeichen(innerkantonal, ausserkantonal):\n",
    "    if innerkantonal >0 and ausserkantonal > 0:\n",
    "        return 'beides'\n",
    "    elif innerkantonal == 0 and ausserkantonal > 0:\n",
    "        return 'AK'\n",
    "    elif innerkantonal >0 and ausserkantonal == 0:\n",
    "        return 'IK'\n",
    "    else:\n",
    "        return 'AK' # <- Zwei Zeilen sind leer. Das ist schon im PDF der Spitalliste von Solothurn so. \n",
    "                    # Ich werte sie als ausserkantonal, weil es dafür innerhalb von Solothurn offenbar kein \n",
    "                    # Angebot gibt.\n",
    "    \n",
    "\n",
    "df_so['Kennzeichen SO'] = df_so.apply(lambda x: kennzeichen(x['Innerkantonal'], x['Ausserkantonal']), axis=1)\n",
    "df_so.head(2)"
   ]
  },
  {
   "cell_type": "code",
   "execution_count": null,
   "metadata": {},
   "outputs": [],
   "source": []
  },
  {
   "cell_type": "markdown",
   "metadata": {},
   "source": [
    "### Bern"
   ]
  },
  {
   "cell_type": "code",
   "execution_count": 32,
   "metadata": {},
   "outputs": [],
   "source": [
    "df_be = pd.read_csv('exports/bern_1.csv')\n",
    "#print(list(df_be.columns))"
   ]
  },
  {
   "cell_type": "code",
   "execution_count": 16,
   "metadata": {},
   "outputs": [],
   "source": [
    "be_headers = df_be.columns.tolist()"
   ]
  },
  {
   "cell_type": "code",
   "execution_count": 17,
   "metadata": {},
   "outputs": [],
   "source": [
    "be_innerkantonal = be_headers[4:33]\n",
    "be_ausserkantonal = be_headers[33:38]\n",
    "df_be['Innerkantonal'] = df_be[be_innerkantonal].sum(axis=1)\n",
    "df_be['Ausserkantonal'] = df_be[be_ausserkantonal].sum(axis=1)"
   ]
  },
  {
   "cell_type": "code",
   "execution_count": 18,
   "metadata": {},
   "outputs": [
    {
     "data": {
      "text/html": [
       "<div>\n",
       "<style scoped>\n",
       "    .dataframe tbody tr th:only-of-type {\n",
       "        vertical-align: middle;\n",
       "    }\n",
       "\n",
       "    .dataframe tbody tr th {\n",
       "        vertical-align: top;\n",
       "    }\n",
       "\n",
       "    .dataframe thead th {\n",
       "        text-align: right;\n",
       "    }\n",
       "</style>\n",
       "<table border=\"1\" class=\"dataframe\">\n",
       "  <thead>\n",
       "    <tr style=\"text-align: right;\">\n",
       "      <th></th>\n",
       "      <th>Hauptbereiche</th>\n",
       "      <th>Leistungsbereiche</th>\n",
       "      <th>Kürzel</th>\n",
       "      <th>Leistungsgruppen</th>\n",
       "      <th>Insel, Insel Gruppe AG</th>\n",
       "      <th>Tiefenau, Insel Gruppe AG</th>\n",
       "      <th>Münsingen, Insel Gruppe AG</th>\n",
       "      <th>Aarberg, Insel Gruppe AG</th>\n",
       "      <th>Riggisberg, Insel Gruppe AG</th>\n",
       "      <th>Beau-Site, Hirslanden Bern AG</th>\n",
       "      <th>...</th>\n",
       "      <th>St-Imier, Hôpital du Jura bernois SA</th>\n",
       "      <th>Moutier, Hôpital de Moutier SA</th>\n",
       "      <th>Delémont, Hôpital du Jura SA</th>\n",
       "      <th>Bürger- spital Solothurn, SoH AG</th>\n",
       "      <th>Fond. \"La Chrysalide\", Hôpital neuchâtelois</th>\n",
       "      <th>Pourtalès, Hôpital neuchâtelois</th>\n",
       "      <th>La-Chaux-de- Fonds, Hôpital neuchâtelois</th>\n",
       "      <th>Innerkantonal</th>\n",
       "      <th>Ausserkantonal</th>\n",
       "      <th>Kennzeichen BE</th>\n",
       "    </tr>\n",
       "  </thead>\n",
       "  <tbody>\n",
       "    <tr>\n",
       "      <th>0</th>\n",
       "      <td>Basis</td>\n",
       "      <td>Basispaket</td>\n",
       "      <td>BP</td>\n",
       "      <td>Basispaket Chirurgie und Innere Medizin</td>\n",
       "      <td>1</td>\n",
       "      <td>1</td>\n",
       "      <td>1</td>\n",
       "      <td>1</td>\n",
       "      <td>1</td>\n",
       "      <td>1</td>\n",
       "      <td>...</td>\n",
       "      <td>1</td>\n",
       "      <td>1</td>\n",
       "      <td>1</td>\n",
       "      <td>1</td>\n",
       "      <td>0</td>\n",
       "      <td>1</td>\n",
       "      <td>1</td>\n",
       "      <td>24</td>\n",
       "      <td>4</td>\n",
       "      <td>beides</td>\n",
       "    </tr>\n",
       "    <tr>\n",
       "      <th>1</th>\n",
       "      <td>Basis</td>\n",
       "      <td>Basispaket</td>\n",
       "      <td>BPE</td>\n",
       "      <td>Basispaket für elektive Leistungserbringer</td>\n",
       "      <td>0</td>\n",
       "      <td>0</td>\n",
       "      <td>0</td>\n",
       "      <td>0</td>\n",
       "      <td>0</td>\n",
       "      <td>0</td>\n",
       "      <td>...</td>\n",
       "      <td>0</td>\n",
       "      <td>0</td>\n",
       "      <td>0</td>\n",
       "      <td>0</td>\n",
       "      <td>0</td>\n",
       "      <td>0</td>\n",
       "      <td>0</td>\n",
       "      <td>1</td>\n",
       "      <td>0</td>\n",
       "      <td>IK</td>\n",
       "    </tr>\n",
       "  </tbody>\n",
       "</table>\n",
       "<p>2 rows × 41 columns</p>\n",
       "</div>"
      ],
      "text/plain": [
       "  Hauptbereiche Leistungsbereiche Kürzel  \\\n",
       "0         Basis        Basispaket     BP   \n",
       "1         Basis        Basispaket    BPE   \n",
       "\n",
       "                             Leistungsgruppen  Insel, Insel Gruppe AG  \\\n",
       "0     Basispaket Chirurgie und Innere Medizin                       1   \n",
       "1  Basispaket für elektive Leistungserbringer                       0   \n",
       "\n",
       "   Tiefenau, Insel Gruppe AG  Münsingen, Insel Gruppe AG  \\\n",
       "0                          1                           1   \n",
       "1                          0                           0   \n",
       "\n",
       "   Aarberg, Insel Gruppe AG  Riggisberg, Insel Gruppe AG  \\\n",
       "0                         1                            1   \n",
       "1                         0                            0   \n",
       "\n",
       "   Beau-Site, Hirslanden Bern AG  ...  St-Imier, Hôpital du Jura bernois SA  \\\n",
       "0                              1  ...                                     1   \n",
       "1                              0  ...                                     0   \n",
       "\n",
       "   Moutier, Hôpital de Moutier SA  Delémont, Hôpital du Jura SA  \\\n",
       "0                               1                             1   \n",
       "1                               0                             0   \n",
       "\n",
       "   Bürger- spital Solothurn, SoH AG  \\\n",
       "0                                 1   \n",
       "1                                 0   \n",
       "\n",
       "   Fond. \"La Chrysalide\", Hôpital neuchâtelois  \\\n",
       "0                                            0   \n",
       "1                                            0   \n",
       "\n",
       "   Pourtalès, Hôpital neuchâtelois  La-Chaux-de- Fonds, Hôpital neuchâtelois  \\\n",
       "0                                1                                         1   \n",
       "1                                0                                         0   \n",
       "\n",
       "   Innerkantonal  Ausserkantonal  Kennzeichen BE  \n",
       "0             24               4          beides  \n",
       "1              1               0              IK  \n",
       "\n",
       "[2 rows x 41 columns]"
      ]
     },
     "execution_count": 18,
     "metadata": {},
     "output_type": "execute_result"
    }
   ],
   "source": [
    "def kennzeichen(innerkantonal, ausserkantonal):\n",
    "    if innerkantonal >0 and ausserkantonal > 0:\n",
    "        return 'beides'\n",
    "    elif innerkantonal == 0 and ausserkantonal > 0:\n",
    "        return 'AK'\n",
    "    elif innerkantonal >0 and ausserkantonal == 0:\n",
    "        return 'IK'\n",
    "    else:\n",
    "        return 'AK' #<- diese Werte betreffen alle hochspezialisierte Leistungen. Diese können offenbar nicht\n",
    "                    # in Bern angeboten werden, aber durch ein Konkordat des Bundes können Patienten in jedes \n",
    "                    # Spital, welches die Leistungen anbietet. Deshalb werte ich sie hier als AK.\n",
    "    \n",
    "\n",
    "df_be['Kennzeichen BE'] = df_be.apply(lambda x: kennzeichen(x['Innerkantonal'], x['Ausserkantonal']), axis=1)\n",
    "df_be.head(2)"
   ]
  },
  {
   "cell_type": "code",
   "execution_count": null,
   "metadata": {},
   "outputs": [],
   "source": []
  },
  {
   "cell_type": "markdown",
   "metadata": {},
   "source": [
    "### Spalten Mergen"
   ]
  },
  {
   "cell_type": "code",
   "execution_count": 19,
   "metadata": {},
   "outputs": [],
   "source": [
    "df_be_cut = df_be[['Leistungsgruppen', 'Kennzeichen BE']]\n",
    "df_so_cut = df_so[['Leistungsgruppen', 'Kennzeichen SO']]\n",
    "df_fr_cut = df_fr[['Leistungsgruppen', 'Kennzeichen FR']]"
   ]
  },
  {
   "cell_type": "code",
   "execution_count": 20,
   "metadata": {},
   "outputs": [
    {
     "data": {
      "text/html": [
       "<div>\n",
       "<style scoped>\n",
       "    .dataframe tbody tr th:only-of-type {\n",
       "        vertical-align: middle;\n",
       "    }\n",
       "\n",
       "    .dataframe tbody tr th {\n",
       "        vertical-align: top;\n",
       "    }\n",
       "\n",
       "    .dataframe thead th {\n",
       "        text-align: right;\n",
       "    }\n",
       "</style>\n",
       "<table border=\"1\" class=\"dataframe\">\n",
       "  <thead>\n",
       "    <tr style=\"text-align: right;\">\n",
       "      <th></th>\n",
       "      <th>Leistungsgruppen</th>\n",
       "      <th>Kennzeichen BE</th>\n",
       "      <th>Kennzeichen SO</th>\n",
       "      <th>Kennzeichen FR</th>\n",
       "    </tr>\n",
       "  </thead>\n",
       "  <tbody>\n",
       "    <tr>\n",
       "      <th>135</th>\n",
       "      <td>Spezialisierte Pallitaive Care im Spital</td>\n",
       "      <td>beides</td>\n",
       "      <td>beides</td>\n",
       "      <td>IK</td>\n",
       "    </tr>\n",
       "    <tr>\n",
       "      <th>136</th>\n",
       "      <td>Akutsomatische Versorgung Abhängigkeitskranker</td>\n",
       "      <td>beides</td>\n",
       "      <td>beides</td>\n",
       "      <td>IK</td>\n",
       "    </tr>\n",
       "  </tbody>\n",
       "</table>\n",
       "</div>"
      ],
      "text/plain": [
       "                                   Leistungsgruppen Kennzeichen BE  \\\n",
       "135        Spezialisierte Pallitaive Care im Spital         beides   \n",
       "136  Akutsomatische Versorgung Abhängigkeitskranker         beides   \n",
       "\n",
       "    Kennzeichen SO Kennzeichen FR  \n",
       "135         beides             IK  \n",
       "136         beides             IK  "
      ]
     },
     "execution_count": 20,
     "metadata": {},
     "output_type": "execute_result"
    }
   ],
   "source": [
    "df_all = df_be_cut.merge(df_so_cut, left_on='Leistungsgruppen', right_on='Leistungsgruppen')\n",
    "df_all = df_all.merge(df_fr_cut, left_on='Leistungsgruppen', right_on='Leistungsgruppen')\n",
    "df_all.tail(2)"
   ]
  },
  {
   "cell_type": "markdown",
   "metadata": {},
   "source": [
    "### Daten visualisieren"
   ]
  },
  {
   "cell_type": "code",
   "execution_count": 21,
   "metadata": {},
   "outputs": [],
   "source": [
    "# Neues DF mit value_counts\n",
    "\n",
    "count_be = df_all['Kennzeichen BE'].value_counts().reset_index().sort_values(by='index')\n",
    "count_so = df_all['Kennzeichen SO'].value_counts().reset_index().sort_values(by='index')\n",
    "count_fr = df_all['Kennzeichen FR'].value_counts().reset_index().sort_values(by='index')"
   ]
  },
  {
   "cell_type": "code",
   "execution_count": 22,
   "metadata": {},
   "outputs": [
    {
     "data": {
      "text/html": [
       "<div>\n",
       "<style scoped>\n",
       "    .dataframe tbody tr th:only-of-type {\n",
       "        vertical-align: middle;\n",
       "    }\n",
       "\n",
       "    .dataframe tbody tr th {\n",
       "        vertical-align: top;\n",
       "    }\n",
       "\n",
       "    .dataframe thead th {\n",
       "        text-align: right;\n",
       "    }\n",
       "</style>\n",
       "<table border=\"1\" class=\"dataframe\">\n",
       "  <thead>\n",
       "    <tr style=\"text-align: right;\">\n",
       "      <th>index</th>\n",
       "      <th>AK</th>\n",
       "      <th>IK</th>\n",
       "      <th>beides</th>\n",
       "    </tr>\n",
       "  </thead>\n",
       "  <tbody>\n",
       "    <tr>\n",
       "      <th>Kennzeichen BE</th>\n",
       "      <td>6</td>\n",
       "      <td>94</td>\n",
       "      <td>37</td>\n",
       "    </tr>\n",
       "    <tr>\n",
       "      <th>Kennzeichen SO</th>\n",
       "      <td>53</td>\n",
       "      <td>2</td>\n",
       "      <td>82</td>\n",
       "    </tr>\n",
       "    <tr>\n",
       "      <th>Kennzeichen FR</th>\n",
       "      <td>28</td>\n",
       "      <td>76</td>\n",
       "      <td>33</td>\n",
       "    </tr>\n",
       "  </tbody>\n",
       "</table>\n",
       "</div>"
      ],
      "text/plain": [
       "index           AK  IK  beides\n",
       "Kennzeichen BE   6  94      37\n",
       "Kennzeichen SO  53   2      82\n",
       "Kennzeichen FR  28  76      33"
      ]
     },
     "execution_count": 22,
     "metadata": {},
     "output_type": "execute_result"
    }
   ],
   "source": [
    "df_count = count_be.merge(count_so, left_on='index', right_on='index')\n",
    "df_count = df_count.merge(count_fr, left_on='index', right_on='index')\n",
    "df_count=df_count.set_index('index')\n",
    "df_count_t =df_count.T\n",
    "df_count_t"
   ]
  },
  {
   "cell_type": "markdown",
   "metadata": {},
   "source": [
    "#### Plot"
   ]
  },
  {
   "cell_type": "code",
   "execution_count": 27,
   "metadata": {},
   "outputs": [
    {
     "data": {
      "text/plain": [
       "<function matplotlib.pyplot.show(*args, **kw)>"
      ]
     },
     "execution_count": 27,
     "metadata": {},
     "output_type": "execute_result"
    },
    {
     "data": {
      "image/png": "[encoded data removed]",
      "text/plain": [
       "<Figure size 864x576 with 1 Axes>"
      ]
     },
     "metadata": {
      "needs_background": "light"
     },
     "output_type": "display_data"
    }
   ],
   "source": [
    "#Data\n",
    "r = [0,1,2]\n",
    "#raw_data = {'Kennzeichen BE': [68,4,27], 'Kennzeichen SO': [38,1,60],'Kennzeichen FR': [55,20,24],}\n",
    "df= df_count_t\n",
    "\n",
    "totals = [i+j+k for i,j,k in zip(df['AK'], df['IK'], df['beides'])]\n",
    "ik = [i/j * 100 for i,j in zip(df['IK'], totals)]\n",
    "beides = [i/j * 100 for i,j in zip(df['beides'], totals)]\n",
    "ak = [i/j * 100 for i,j in zip(df['AK'], totals)]\n",
    "\n",
    "plt.figure(figsize=(12,8)) \n",
    "#plot\n",
    "barWidth = 0.7\n",
    "names = ('Bern','Solothurn','Freiburg')\n",
    "#Innerkantonal, unten\n",
    "p_ik = plt.bar(r, ik, color='#bc826e',  width=barWidth, label='innerkantonal')\n",
    "#Beides, mitte\n",
    "p_beides= plt.bar(r, beides, bottom=ik, color='#8ed2d1', width=barWidth, label='beides')\n",
    "#Auserkantonal, oben\n",
    "p_ak= plt.bar(r, ak, bottom=[i+j for i, j in zip(ik, beides)], color='#FFB71C', width=barWidth, label='ausserkantonal')\n",
    "\n",
    "\n",
    "plt.legend(handles=[p_ik, p_beides, p_ak])\n",
    "plt.legend(loc='best', bbox_to_anchor=(1, 0.12))\n",
    "plt.xticks(r, names)\n",
    "plt.xlabel(\"Kantone\")\n",
    "plt.title('Leistungsangebot nach Kantonen')\n",
    "\n",
    "plt.show\n",
    "# Farben\n",
    "# echte Daten"
   ]
  },
  {
   "cell_type": "code",
   "execution_count": null,
   "metadata": {},
   "outputs": [],
   "source": []
  },
  {
   "cell_type": "code",
   "execution_count": 24,
   "metadata": {},
   "outputs": [
    {
     "data": {
      "text/html": [
       "<div>\n",
       "<style scoped>\n",
       "    .dataframe tbody tr th:only-of-type {\n",
       "        vertical-align: middle;\n",
       "    }\n",
       "\n",
       "    .dataframe tbody tr th {\n",
       "        vertical-align: top;\n",
       "    }\n",
       "\n",
       "    .dataframe thead th {\n",
       "        text-align: right;\n",
       "    }\n",
       "</style>\n",
       "<table border=\"1\" class=\"dataframe\">\n",
       "  <thead>\n",
       "    <tr style=\"text-align: right;\">\n",
       "      <th></th>\n",
       "      <th>Kennzeichen BE</th>\n",
       "      <th>Kennzeichen SO</th>\n",
       "      <th>Kennzeichen FR</th>\n",
       "      <th>BE %</th>\n",
       "      <th>SO %</th>\n",
       "      <th>FR %</th>\n",
       "    </tr>\n",
       "    <tr>\n",
       "      <th>index</th>\n",
       "      <th></th>\n",
       "      <th></th>\n",
       "      <th></th>\n",
       "      <th></th>\n",
       "      <th></th>\n",
       "      <th></th>\n",
       "    </tr>\n",
       "  </thead>\n",
       "  <tbody>\n",
       "    <tr>\n",
       "      <th>AK</th>\n",
       "      <td>6</td>\n",
       "      <td>53</td>\n",
       "      <td>28</td>\n",
       "      <td>4.4</td>\n",
       "      <td>38.7</td>\n",
       "      <td>20.4</td>\n",
       "    </tr>\n",
       "    <tr>\n",
       "      <th>IK</th>\n",
       "      <td>94</td>\n",
       "      <td>2</td>\n",
       "      <td>76</td>\n",
       "      <td>68.6</td>\n",
       "      <td>1.5</td>\n",
       "      <td>55.5</td>\n",
       "    </tr>\n",
       "    <tr>\n",
       "      <th>beides</th>\n",
       "      <td>37</td>\n",
       "      <td>82</td>\n",
       "      <td>33</td>\n",
       "      <td>27.0</td>\n",
       "      <td>59.9</td>\n",
       "      <td>24.1</td>\n",
       "    </tr>\n",
       "  </tbody>\n",
       "</table>\n",
       "</div>"
      ],
      "text/plain": [
       "        Kennzeichen BE  Kennzeichen SO  Kennzeichen FR  BE %  SO %  FR %\n",
       "index                                                                   \n",
       "AK                   6              53              28   4.4  38.7  20.4\n",
       "IK                  94               2              76  68.6   1.5  55.5\n",
       "beides              37              82              33  27.0  59.9  24.1"
      ]
     },
     "execution_count": 24,
     "metadata": {},
     "output_type": "execute_result"
    }
   ],
   "source": [
    "# Für den Fliesstext hier die Prozentangaben einzeln\n",
    "\n",
    "df_count['BE %'] = (df_count['Kennzeichen BE']/df_count['Kennzeichen BE'].sum()*100).round(1)\n",
    "df_count['SO %'] = (df_count['Kennzeichen SO']/df_count['Kennzeichen SO'].sum()*100).round(1)\n",
    "df_count['FR %'] = (df_count['Kennzeichen FR']/df_count['Kennzeichen SO'].sum()*100).round(1)\n",
    "df_count"
   ]
  },
  {
   "cell_type": "code",
   "execution_count": null,
   "metadata": {},
   "outputs": [],
   "source": []
  }
 ],
 "metadata": {
  "kernelspec": {
   "display_name": "Python 3",
   "language": "python",
   "name": "python3"
  },
  "language_info": {
   "codemirror_mode": {
    "name": "ipython",
    "version": 3
   },
   "file_extension": ".py",
   "mimetype": "text/x-python",
   "name": "python",
   "nbconvert_exporter": "python",
   "pygments_lexer": "ipython3",
   "version": "3.7.3"
  }
 },
 "nbformat": 4,
 "nbformat_minor": 2
}
