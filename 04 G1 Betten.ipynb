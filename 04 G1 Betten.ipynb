{
 "cells": [
  {
   "cell_type": "markdown",
   "metadata": {},
   "source": [
    "# 06 Graph 1 Spitalbetten nach Kanton"
   ]
  },
  {
   "cell_type": "markdown",
   "metadata": {},
   "source": [
    "Das Skript hier berechnet die Anzahl Spitalbetten nach Kanton und Einwohner. Datengrundlage sind die Kennzahlen der Schweizer Spitäler von 2011, vor der Einführung der neuen Spitalfinanzierung und 2017, wovon die neusten Daten sind. Quelle: https://www.bag.admin.ch/bag/de/home/zahlen-und-statistiken/zahlen-fakten-zu-spitaelern/kennzahlen-der-schweizer-spitaeler.html\n",
    "Die Zahlen zu den Einwohnerinnen pro Kanton und der Schweiz total stammen von https://www.bfs.admin.ch/bfs/de/home/statistiken/regionalstatistik/regionale-portraets-kennzahlen/kantone/bern.html.\n",
    "\n",
    "Was hier konkret passiert:\n",
    "* Kennzahlen zu 2011 und 2017 je in einem DF laden\n",
    "* neue Datenframes mit den Summen der Betten nach Kanton erstellen\n",
    "* Summe der Spitalbetten aller Kantone appenden\n",
    "\n",
    "\n",
    "* manuellen Dataframe mit den Einwohnerzahlen erstellen\n",
    "* alle Dataframes mergen\n",
    "* die Dichte der Betten pro Kanton für 2011 und 2017 berechnen\n",
    "* das Ergebnis plotten\n"
   ]
  },
  {
   "cell_type": "code",
   "execution_count": 1,
   "metadata": {},
   "outputs": [],
   "source": [
    "#import stuff\n",
    "import pandas as pd\n",
    "import numpy as np\n",
    "import matplotlib.pyplot as plt\n",
    "import xlrd"
   ]
  },
  {
   "cell_type": "code",
   "execution_count": 2,
   "metadata": {},
   "outputs": [],
   "source": [
    "# Kennzahlen Spitäler 2017 laden\n",
    "xls = pd.ExcelFile('Recherche/Kennzahlen_Spitäler 2017.xlsx')\n",
    "df_2017 = pd.read_excel(xls, 'KZ2017_KZP17')\n",
    "#df_2017.head(2)"
   ]
  },
  {
   "cell_type": "code",
   "execution_count": 3,
   "metadata": {},
   "outputs": [],
   "source": [
    "# Kennzahlen Spitäler 2011 laden\n",
    "xls = pd.ExcelFile('Recherche/Kennzahlen_Spitäler 2011.xlsx')\n",
    "df_2011 = pd.read_excel(xls, 'Kennzahlen 2011')\n",
    "\n",
    "#df_2011.head(2)"
   ]
  },
  {
   "cell_type": "code",
   "execution_count": 4,
   "metadata": {},
   "outputs": [],
   "source": [
    "# Genaue Schreibweise von BettenStatA finden, welche gemäss der Beschreibung zu den Kennzahlen die \n",
    "# Anzahl stationären Betten in der Akutsomatik angeben\n",
    "\n",
    "#print(df_2017.columns.to_list())"
   ]
  },
  {
   "cell_type": "code",
   "execution_count": 5,
   "metadata": {},
   "outputs": [
    {
     "data": {
      "text/html": [
       "<div>\n",
       "<style scoped>\n",
       "    .dataframe tbody tr th:only-of-type {\n",
       "        vertical-align: middle;\n",
       "    }\n",
       "\n",
       "    .dataframe tbody tr th {\n",
       "        vertical-align: top;\n",
       "    }\n",
       "\n",
       "    .dataframe thead th {\n",
       "        text-align: right;\n",
       "    }\n",
       "</style>\n",
       "<table border=\"1\" class=\"dataframe\">\n",
       "  <thead>\n",
       "    <tr style=\"text-align: right;\">\n",
       "      <th></th>\n",
       "      <th>KT</th>\n",
       "      <th>Betten 17</th>\n",
       "    </tr>\n",
       "  </thead>\n",
       "  <tbody>\n",
       "    <tr>\n",
       "      <th>0</th>\n",
       "      <td>BE</td>\n",
       "      <td>3043.5</td>\n",
       "    </tr>\n",
       "    <tr>\n",
       "      <th>1</th>\n",
       "      <td>FR</td>\n",
       "      <td>521.0</td>\n",
       "    </tr>\n",
       "    <tr>\n",
       "      <th>2</th>\n",
       "      <td>SO</td>\n",
       "      <td>512.1</td>\n",
       "    </tr>\n",
       "  </tbody>\n",
       "</table>\n",
       "</div>"
      ],
      "text/plain": [
       "   KT  Betten 17\n",
       "0  BE     3043.5\n",
       "1  FR      521.0\n",
       "2  SO      512.1"
      ]
     },
     "execution_count": 5,
     "metadata": {},
     "output_type": "execute_result"
    }
   ],
   "source": [
    "# 2017: Summe der Betten der Akutspitäler pro Kanton berechnen\n",
    "\n",
    "betten_2017=df_2017[(df_2017['KT']=='BE') | (df_2017['KT']=='FR') | (df_2017['KT']=='SO')].groupby('KT')['BettenStatA'].sum().round(1).reset_index()\n",
    "betten_2017.columns= ['KT', 'Betten 17']\n",
    "betten_2017"
   ]
  },
  {
   "cell_type": "code",
   "execution_count": 6,
   "metadata": {},
   "outputs": [
    {
     "data": {
      "text/html": [
       "<div>\n",
       "<style scoped>\n",
       "    .dataframe tbody tr th:only-of-type {\n",
       "        vertical-align: middle;\n",
       "    }\n",
       "\n",
       "    .dataframe tbody tr th {\n",
       "        vertical-align: top;\n",
       "    }\n",
       "\n",
       "    .dataframe thead th {\n",
       "        text-align: right;\n",
       "    }\n",
       "</style>\n",
       "<table border=\"1\" class=\"dataframe\">\n",
       "  <thead>\n",
       "    <tr style=\"text-align: right;\">\n",
       "      <th></th>\n",
       "      <th>KT</th>\n",
       "      <th>Betten 17</th>\n",
       "    </tr>\n",
       "  </thead>\n",
       "  <tbody>\n",
       "    <tr>\n",
       "      <th>0</th>\n",
       "      <td>BE</td>\n",
       "      <td>3043.5</td>\n",
       "    </tr>\n",
       "    <tr>\n",
       "      <th>1</th>\n",
       "      <td>FR</td>\n",
       "      <td>521.0</td>\n",
       "    </tr>\n",
       "    <tr>\n",
       "      <th>2</th>\n",
       "      <td>SO</td>\n",
       "      <td>512.1</td>\n",
       "    </tr>\n",
       "    <tr>\n",
       "      <th>3</th>\n",
       "      <td>CH</td>\n",
       "      <td>46478.6</td>\n",
       "    </tr>\n",
       "  </tbody>\n",
       "</table>\n",
       "</div>"
      ],
      "text/plain": [
       "   KT  Betten 17\n",
       "0  BE     3043.5\n",
       "1  FR      521.0\n",
       "2  SO      512.1\n",
       "3  CH    46478.6"
      ]
     },
     "execution_count": 6,
     "metadata": {},
     "output_type": "execute_result"
    }
   ],
   "source": [
    "# 2017: Die Summe der Betten in allen Kantonen appenden:\n",
    "\n",
    "betten_2017 = betten_2017.append({'KT': 'CH', 'Betten 17': df_2017['BettenStatA'].sum().round(1)}, ignore_index=True)\n",
    "betten_2017\n"
   ]
  },
  {
   "cell_type": "code",
   "execution_count": null,
   "metadata": {},
   "outputs": [],
   "source": []
  },
  {
   "cell_type": "code",
   "execution_count": 7,
   "metadata": {},
   "outputs": [
    {
     "data": {
      "text/html": [
       "<div>\n",
       "<style scoped>\n",
       "    .dataframe tbody tr th:only-of-type {\n",
       "        vertical-align: middle;\n",
       "    }\n",
       "\n",
       "    .dataframe tbody tr th {\n",
       "        vertical-align: top;\n",
       "    }\n",
       "\n",
       "    .dataframe thead th {\n",
       "        text-align: right;\n",
       "    }\n",
       "</style>\n",
       "<table border=\"1\" class=\"dataframe\">\n",
       "  <thead>\n",
       "    <tr style=\"text-align: right;\">\n",
       "      <th></th>\n",
       "      <th>KT</th>\n",
       "      <th>Betten 11</th>\n",
       "    </tr>\n",
       "  </thead>\n",
       "  <tbody>\n",
       "    <tr>\n",
       "      <th>0</th>\n",
       "      <td>BE</td>\n",
       "      <td>3201.2</td>\n",
       "    </tr>\n",
       "    <tr>\n",
       "      <th>1</th>\n",
       "      <td>FR</td>\n",
       "      <td>652.0</td>\n",
       "    </tr>\n",
       "    <tr>\n",
       "      <th>2</th>\n",
       "      <td>SO</td>\n",
       "      <td>449.9</td>\n",
       "    </tr>\n",
       "  </tbody>\n",
       "</table>\n",
       "</div>"
      ],
      "text/plain": [
       "   KT  Betten 11\n",
       "0  BE     3201.2\n",
       "1  FR      652.0\n",
       "2  SO      449.9"
      ]
     },
     "execution_count": 7,
     "metadata": {},
     "output_type": "execute_result"
    }
   ],
   "source": [
    "# 2011: Summe der Betten der Akutspitäler pro Kanton berechnen\n",
    "\n",
    "betten_2011=df_2011[(df_2011['KT']=='BE') | (df_2011['KT']=='FR') | (df_2011['KT']=='SO')].groupby('KT')['BettenStatA'].sum().reset_index()\n",
    "betten_2011.columns= ['KT', 'Betten 11']\n",
    "betten_2011"
   ]
  },
  {
   "cell_type": "code",
   "execution_count": 8,
   "metadata": {},
   "outputs": [
    {
     "data": {
      "text/html": [
       "<div>\n",
       "<style scoped>\n",
       "    .dataframe tbody tr th:only-of-type {\n",
       "        vertical-align: middle;\n",
       "    }\n",
       "\n",
       "    .dataframe tbody tr th {\n",
       "        vertical-align: top;\n",
       "    }\n",
       "\n",
       "    .dataframe thead th {\n",
       "        text-align: right;\n",
       "    }\n",
       "</style>\n",
       "<table border=\"1\" class=\"dataframe\">\n",
       "  <thead>\n",
       "    <tr style=\"text-align: right;\">\n",
       "      <th></th>\n",
       "      <th>KT</th>\n",
       "      <th>Betten 11</th>\n",
       "    </tr>\n",
       "  </thead>\n",
       "  <tbody>\n",
       "    <tr>\n",
       "      <th>0</th>\n",
       "      <td>BE</td>\n",
       "      <td>3201.2</td>\n",
       "    </tr>\n",
       "    <tr>\n",
       "      <th>1</th>\n",
       "      <td>FR</td>\n",
       "      <td>652.0</td>\n",
       "    </tr>\n",
       "    <tr>\n",
       "      <th>2</th>\n",
       "      <td>SO</td>\n",
       "      <td>449.9</td>\n",
       "    </tr>\n",
       "    <tr>\n",
       "      <th>3</th>\n",
       "      <td>CH</td>\n",
       "      <td>23938.5</td>\n",
       "    </tr>\n",
       "  </tbody>\n",
       "</table>\n",
       "</div>"
      ],
      "text/plain": [
       "   KT  Betten 11\n",
       "0  BE     3201.2\n",
       "1  FR      652.0\n",
       "2  SO      449.9\n",
       "3  CH    23938.5"
      ]
     },
     "execution_count": 8,
     "metadata": {},
     "output_type": "execute_result"
    }
   ],
   "source": [
    "# 2011 Die Summe der Betten in allen Kantonen appenden:\n",
    "\n",
    "betten_2011 = betten_2011.append({'KT': 'CH', 'Betten 11': df_2011['BettenStatA'].sum().round(1)}, ignore_index=True)\n",
    "betten_2011\n"
   ]
  },
  {
   "cell_type": "code",
   "execution_count": 9,
   "metadata": {},
   "outputs": [
    {
     "data": {
      "text/html": [
       "<div>\n",
       "<style scoped>\n",
       "    .dataframe tbody tr th:only-of-type {\n",
       "        vertical-align: middle;\n",
       "    }\n",
       "\n",
       "    .dataframe tbody tr th {\n",
       "        vertical-align: top;\n",
       "    }\n",
       "\n",
       "    .dataframe thead th {\n",
       "        text-align: right;\n",
       "    }\n",
       "</style>\n",
       "<table border=\"1\" class=\"dataframe\">\n",
       "  <thead>\n",
       "    <tr style=\"text-align: right;\">\n",
       "      <th></th>\n",
       "      <th>KT</th>\n",
       "      <th>Einwohner 17</th>\n",
       "    </tr>\n",
       "  </thead>\n",
       "  <tbody>\n",
       "    <tr>\n",
       "      <th>0</th>\n",
       "      <td>BE</td>\n",
       "      <td>1031126</td>\n",
       "    </tr>\n",
       "    <tr>\n",
       "      <th>1</th>\n",
       "      <td>FR</td>\n",
       "      <td>315074</td>\n",
       "    </tr>\n",
       "    <tr>\n",
       "      <th>2</th>\n",
       "      <td>SO</td>\n",
       "      <td>271432</td>\n",
       "    </tr>\n",
       "    <tr>\n",
       "      <th>3</th>\n",
       "      <td>CH</td>\n",
       "      <td>8484130</td>\n",
       "    </tr>\n",
       "  </tbody>\n",
       "</table>\n",
       "</div>"
      ],
      "text/plain": [
       "   KT  Einwohner 17\n",
       "0  BE       1031126\n",
       "1  FR        315074\n",
       "2  SO        271432\n",
       "3  CH       8484130"
      ]
     },
     "execution_count": 9,
     "metadata": {},
     "output_type": "execute_result"
    }
   ],
   "source": [
    "#DF Mit den Einwohnerzahlen der Kantone abgleichen \n",
    "einwohner_roh_2017 = {'KT': ['BE','FR','SO','CH'], 'Einwohner 17':[1031126,315074,271432,8484130]}\n",
    "einwohner_2017 = pd.DataFrame(einwohner_roh_2017)\n",
    "\n",
    "einwohner_roh_2011 = {'KT': ['BE','FR','SO','CH'], 'Einwohner 11':[985046,284668,256990,7954662]}\n",
    "einwohner_2011 = pd.DataFrame(einwohner_roh_2011)\n",
    "\n",
    "einwohner_2017"
   ]
  },
  {
   "cell_type": "code",
   "execution_count": 10,
   "metadata": {},
   "outputs": [
    {
     "data": {
      "text/html": [
       "<div>\n",
       "<style scoped>\n",
       "    .dataframe tbody tr th:only-of-type {\n",
       "        vertical-align: middle;\n",
       "    }\n",
       "\n",
       "    .dataframe tbody tr th {\n",
       "        vertical-align: top;\n",
       "    }\n",
       "\n",
       "    .dataframe thead th {\n",
       "        text-align: right;\n",
       "    }\n",
       "</style>\n",
       "<table border=\"1\" class=\"dataframe\">\n",
       "  <thead>\n",
       "    <tr style=\"text-align: right;\">\n",
       "      <th></th>\n",
       "      <th>Kanton</th>\n",
       "      <th>Betten 17</th>\n",
       "      <th>Einwohner 17</th>\n",
       "      <th>Betten 11</th>\n",
       "      <th>Einwohner 11</th>\n",
       "    </tr>\n",
       "  </thead>\n",
       "  <tbody>\n",
       "    <tr>\n",
       "      <th>0</th>\n",
       "      <td>BE</td>\n",
       "      <td>3043.5</td>\n",
       "      <td>1031126</td>\n",
       "      <td>3201.2</td>\n",
       "      <td>985046</td>\n",
       "    </tr>\n",
       "    <tr>\n",
       "      <th>1</th>\n",
       "      <td>FR</td>\n",
       "      <td>521.0</td>\n",
       "      <td>315074</td>\n",
       "      <td>652.0</td>\n",
       "      <td>284668</td>\n",
       "    </tr>\n",
       "    <tr>\n",
       "      <th>2</th>\n",
       "      <td>SO</td>\n",
       "      <td>512.1</td>\n",
       "      <td>271432</td>\n",
       "      <td>449.9</td>\n",
       "      <td>256990</td>\n",
       "    </tr>\n",
       "    <tr>\n",
       "      <th>3</th>\n",
       "      <td>CH</td>\n",
       "      <td>46478.6</td>\n",
       "      <td>8484130</td>\n",
       "      <td>23938.5</td>\n",
       "      <td>7954662</td>\n",
       "    </tr>\n",
       "  </tbody>\n",
       "</table>\n",
       "</div>"
      ],
      "text/plain": [
       "  Kanton  Betten 17  Einwohner 17  Betten 11  Einwohner 11\n",
       "0     BE     3043.5       1031126     3201.2        985046\n",
       "1     FR      521.0        315074      652.0        284668\n",
       "2     SO      512.1        271432      449.9        256990\n",
       "3     CH    46478.6       8484130    23938.5       7954662"
      ]
     },
     "execution_count": 10,
     "metadata": {},
     "output_type": "execute_result"
    }
   ],
   "source": [
    "# Dataframes mergen\n",
    "betten_merge = betten_2017.merge(einwohner_2017, how='outer', left_on='KT', right_on='KT')\n",
    "betten_merge = betten_merge.merge(betten_2011, how='outer', left_on='KT', right_on='KT')\n",
    "betten_merge = betten_merge.merge(einwohner_2011, how='outer', left_on='KT', right_on='KT')\n",
    "\n",
    "#Kantonsspalte umbenennen\n",
    "betten_merge.columns = ['Kanton', 'Betten 17','Einwohner 17','Betten 11','Einwohner 11']\n",
    "betten_merge"
   ]
  },
  {
   "cell_type": "code",
   "execution_count": 11,
   "metadata": {},
   "outputs": [
    {
     "data": {
      "text/html": [
       "<div>\n",
       "<style scoped>\n",
       "    .dataframe tbody tr th:only-of-type {\n",
       "        vertical-align: middle;\n",
       "    }\n",
       "\n",
       "    .dataframe tbody tr th {\n",
       "        vertical-align: top;\n",
       "    }\n",
       "\n",
       "    .dataframe thead th {\n",
       "        text-align: right;\n",
       "    }\n",
       "</style>\n",
       "<table border=\"1\" class=\"dataframe\">\n",
       "  <thead>\n",
       "    <tr style=\"text-align: right;\">\n",
       "      <th></th>\n",
       "      <th>Kanton</th>\n",
       "      <th>Betten 11</th>\n",
       "      <th>Einwohner 11</th>\n",
       "      <th>Anteil 11</th>\n",
       "      <th>Betten 17</th>\n",
       "      <th>Einwohner 17</th>\n",
       "      <th>Anteil 17</th>\n",
       "    </tr>\n",
       "  </thead>\n",
       "  <tbody>\n",
       "    <tr>\n",
       "      <th>0</th>\n",
       "      <td>BE</td>\n",
       "      <td>3201.2</td>\n",
       "      <td>985046</td>\n",
       "      <td>3.25</td>\n",
       "      <td>3043.5</td>\n",
       "      <td>1031126</td>\n",
       "      <td>2.95</td>\n",
       "    </tr>\n",
       "    <tr>\n",
       "      <th>1</th>\n",
       "      <td>FR</td>\n",
       "      <td>652.0</td>\n",
       "      <td>284668</td>\n",
       "      <td>2.29</td>\n",
       "      <td>521.0</td>\n",
       "      <td>315074</td>\n",
       "      <td>1.65</td>\n",
       "    </tr>\n",
       "    <tr>\n",
       "      <th>2</th>\n",
       "      <td>SO</td>\n",
       "      <td>449.9</td>\n",
       "      <td>256990</td>\n",
       "      <td>1.75</td>\n",
       "      <td>512.1</td>\n",
       "      <td>271432</td>\n",
       "      <td>1.89</td>\n",
       "    </tr>\n",
       "    <tr>\n",
       "      <th>3</th>\n",
       "      <td>CH</td>\n",
       "      <td>23938.5</td>\n",
       "      <td>7954662</td>\n",
       "      <td>3.01</td>\n",
       "      <td>46478.6</td>\n",
       "      <td>8484130</td>\n",
       "      <td>5.48</td>\n",
       "    </tr>\n",
       "  </tbody>\n",
       "</table>\n",
       "</div>"
      ],
      "text/plain": [
       "  Kanton  Betten 11  Einwohner 11  Anteil 11  Betten 17  Einwohner 17  \\\n",
       "0     BE     3201.2        985046       3.25     3043.5       1031126   \n",
       "1     FR      652.0        284668       2.29      521.0        315074   \n",
       "2     SO      449.9        256990       1.75      512.1        271432   \n",
       "3     CH    23938.5       7954662       3.01    46478.6       8484130   \n",
       "\n",
       "   Anteil 17  \n",
       "0       2.95  \n",
       "1       1.65  \n",
       "2       1.89  \n",
       "3       5.48  "
      ]
     },
     "execution_count": 11,
     "metadata": {},
     "output_type": "execute_result"
    }
   ],
   "source": [
    "# Betten pro 1000 Einwohnerinnen ausrechnen für 2011 und 2017\n",
    "betten_merge['Anteil 17']=(betten_merge['Betten 17']/betten_merge['Einwohner 17']*1000).round(2)\n",
    "betten_merge['Anteil 11']=(betten_merge['Betten 11']/betten_merge['Einwohner 11']*1000).round(2)\n",
    "betten_merge = betten_merge[['Kanton', 'Betten 11','Einwohner 11','Anteil 11', 'Betten 17', \n",
    "                             'Einwohner 17', 'Anteil 17']]\n",
    "betten_merge"
   ]
  },
  {
   "cell_type": "code",
   "execution_count": 15,
   "metadata": {},
   "outputs": [
    {
     "data": {
      "text/plain": [
       "<function matplotlib.pyplot.show(*args, **kw)>"
      ]
     },
     "execution_count": 15,
     "metadata": {},
     "output_type": "execute_result"
    },
    {
     "data": {
      "image/png": "[encoded data removed]",
      "text/plain": [
       "<Figure size 864x576 with 1 Axes>"
      ]
     },
     "metadata": {
      "needs_background": "light"
     },
     "output_type": "display_data"
    }
   ],
   "source": [
    "barWidth = 0.3\n",
    "plt.figure(figsize=(12,8))\n",
    "\n",
    "# height of the bars\n",
    "bars_11 = betten_merge['Anteil 11']\n",
    "bars_17 = betten_merge['Anteil 17']\n",
    "\n",
    "#position\n",
    "r_11 = np.arange(len(bars_11))\n",
    "r_17 = [x + barWidth for x in r_11]\n",
    "\n",
    "plt.bar(r_11, bars_11, width=barWidth, color = '#a1c1dc', label= '2011')\n",
    "plt.bar(r_17, bars_17, width=barWidth, color = '#73a3cb', label= '2017')\n",
    "\n",
    "plt.xticks([r +barWidth for r in range(len(bars_11))], ['BE', 'FR', 'SO', 'CH'])\n",
    "plt.ylabel('Betten pro 1000 Einwohner')\n",
    "plt.legend()\n",
    "plt.title('Die Bettendichte hat in Bern und Freiburg abgenommen, in Solothurn und der Schweiz nahm sie zu.')\n",
    "\n",
    "plt.show"
   ]
  },
  {
   "cell_type": "code",
   "execution_count": null,
   "metadata": {},
   "outputs": [],
   "source": []
  }
 ],
 "metadata": {
  "kernelspec": {
   "display_name": "Python 3",
   "language": "python",
   "name": "python3"
  },
  "language_info": {
   "codemirror_mode": {
    "name": "ipython",
    "version": 3
   },
   "file_extension": ".py",
   "mimetype": "text/x-python",
   "name": "python",
   "nbconvert_exporter": "python",
   "pygments_lexer": "ipython3",
   "version": "3.7.3"
  }
 },
 "nbformat": 4,
 "nbformat_minor": 2
}
