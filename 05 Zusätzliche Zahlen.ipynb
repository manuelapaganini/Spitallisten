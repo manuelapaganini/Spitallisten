{
 "cells": [
  {
   "cell_type": "markdown",
   "metadata": {},
   "source": [
    "# Zahlen"
   ]
  },
  {
   "cell_type": "markdown",
   "metadata": {},
   "source": [
    "Hier berechne ich Zahlen, die ich im Fliesstext benötige, aber in den bisherigen Workfiles schlecht hinpassen. "
   ]
  },
  {
   "cell_type": "code",
   "execution_count": 1,
   "metadata": {},
   "outputs": [],
   "source": [
    "# Import stuff\n",
    "import pandas as pd\n"
   ]
  },
  {
   "cell_type": "markdown",
   "metadata": {},
   "source": [
    "### Ausgaben Kantone für Spitalbehandlungen"
   ]
  },
  {
   "cell_type": "code",
   "execution_count": 2,
   "metadata": {},
   "outputs": [
    {
     "data": {
      "text/html": [
       "<div>\n",
       "<style scoped>\n",
       "    .dataframe tbody tr th:only-of-type {\n",
       "        vertical-align: middle;\n",
       "    }\n",
       "\n",
       "    .dataframe tbody tr th {\n",
       "        vertical-align: top;\n",
       "    }\n",
       "\n",
       "    .dataframe thead th {\n",
       "        text-align: right;\n",
       "    }\n",
       "</style>\n",
       "<table border=\"1\" class=\"dataframe\">\n",
       "  <thead>\n",
       "    <tr style=\"text-align: right;\">\n",
       "      <th></th>\n",
       "      <th>Kanton</th>\n",
       "      <th>Spitalbehandlungen</th>\n",
       "      <th>Aufwand</th>\n",
       "      <th>Anteil</th>\n",
       "    </tr>\n",
       "  </thead>\n",
       "  <tbody>\n",
       "    <tr>\n",
       "      <th>0</th>\n",
       "      <td>Solothurn</td>\n",
       "      <td>279.5</td>\n",
       "      <td>2117.7</td>\n",
       "      <td>13.2</td>\n",
       "    </tr>\n",
       "    <tr>\n",
       "      <th>1</th>\n",
       "      <td>Freiburg</td>\n",
       "      <td>291.6</td>\n",
       "      <td>3582.3</td>\n",
       "      <td>8.1</td>\n",
       "    </tr>\n",
       "    <tr>\n",
       "      <th>2</th>\n",
       "      <td>Bern</td>\n",
       "      <td>1187.0</td>\n",
       "      <td>10175.8</td>\n",
       "      <td>11.7</td>\n",
       "    </tr>\n",
       "  </tbody>\n",
       "</table>\n",
       "</div>"
      ],
      "text/plain": [
       "      Kanton  Spitalbehandlungen  Aufwand  Anteil\n",
       "0  Solothurn               279.5   2117.7    13.2\n",
       "1   Freiburg               291.6   3582.3     8.1\n",
       "2       Bern              1187.0  10175.8    11.7"
      ]
     },
     "execution_count": 2,
     "metadata": {},
     "output_type": "execute_result"
    }
   ],
   "source": [
    "# Quelle Freiburg: Staatsrechnung, manuelle Adition von spitalbezogenen Budgetposten\n",
    "# Solothurn: Staatsrechnung\n",
    "# Bern: Bern Staatsrechnung Band 3\n",
    "\n",
    "kosten_roh = {'Kanton': ['Solothurn', 'Freiburg', 'Bern'], \n",
    "            'Spitalbehandlungen': [279.5, 291.6, 1187],\n",
    "            'Aufwand': [2117.7,3582.3,10175.8]}\n",
    "df_kosten = pd.DataFrame(kosten_roh)\n",
    "df_kosten['Anteil'] = (df_kosten['Spitalbehandlungen']/df_kosten['Aufwand']*100).round(1)\n",
    "df_kosten"
   ]
  },
  {
   "cell_type": "code",
   "execution_count": null,
   "metadata": {},
   "outputs": [],
   "source": []
  }
 ],
 "metadata": {
  "kernelspec": {
   "display_name": "Python 3",
   "language": "python",
   "name": "python3"
  },
  "language_info": {
   "codemirror_mode": {
    "name": "ipython",
    "version": 3
   },
   "file_extension": ".py",
   "mimetype": "text/x-python",
   "name": "python",
   "nbconvert_exporter": "python",
   "pygments_lexer": "ipython3",
   "version": "3.7.3"
  }
 },
 "nbformat": 4,
 "nbformat_minor": 2
}
